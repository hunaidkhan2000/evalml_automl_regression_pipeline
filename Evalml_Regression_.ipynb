{
  "nbformat": 4,
  "nbformat_minor": 0,
  "metadata": {
    "colab": {
      "name": "Evalml Regression .ipynb",
      "provenance": [],
      "collapsed_sections": []
    },
    "kernelspec": {
      "name": "python3",
      "display_name": "Python 3"
    },
    "language_info": {
      "name": "python"
    },
    "widgets": {
      "application/vnd.jupyter.widget-state+json": {
        "e76dbf783346400aaf00452d19fc11e3": {
          "model_module": "plotlywidget",
          "model_name": "FigureModel",
          "state": {
            "_view_name": "FigureView",
            "_py2js_animate": {},
            "_py2js_removeLayoutProps": {},
            "_last_trace_edit_id": 37,
            "_view_module": "plotlywidget",
            "_model_module_version": "^4.14.3",
            "_view_count": 0,
            "_js2py_relayout": {},
            "_py2js_moveTraces": {},
            "_py2js_addTraces": {},
            "_model_module": "plotlywidget",
            "_py2js_relayout": null,
            "_js2py_pointsCallback": {},
            "_js2py_update": {},
            "_js2py_restyle": {},
            "_py2js_removeTraceProps": {},
            "_py2js_deleteTraces": {},
            "_dom_classes": [],
            "_model_name": "FigureModel",
            "_layout": {
              "yaxis": {
                "title": {
                  "text": "Score"
                }
              },
              "xaxis": {
                "title": {
                  "text": "Iteration"
                },
                "rangemode": "tozero"
              },
              "title": {
                "text": "Pipeline Search: Iteration vs. R2<br><sub>Gray marker indicates the score at current iteration</sub>"
              }
            },
            "_js2py_layoutDelta": {},
            "_py2js_update": null,
            "_data": [
              {
                "uid": "bd8d8c7d-6815-4cab-827d-1383c61050c3",
                "mode": "lines+markers",
                "y": [],
                "x": [],
                "type": "scatter",
                "name": "Best Score"
              },
              {
                "name": "Iter score",
                "y": [],
                "mode": "markers",
                "marker": {
                  "color": "gray"
                },
                "x": [],
                "type": "scatter",
                "uid": "590a8fba-5cc9-4a72-beef-ba54dea2cc24"
              }
            ],
            "_config": {
              "plotlyServerURL": "https://plot.ly"
            },
            "_py2js_restyle": null,
            "_view_module_version": "^4.14.3",
            "_last_layout_edit_id": 37,
            "_js2py_traceDeltas": {}
          }
        }
      }
    }
  },
  "cells": [
    {
      "cell_type": "code",
      "metadata": {
        "id": "TWj1pbqgMtdl"
      },
      "source": [
        "!pip install evalml"
      ],
      "execution_count": null,
      "outputs": []
    },
    {
      "cell_type": "code",
      "metadata": {
        "id": "iXliUK4BNzzE"
      },
      "source": [
        "!pip install --upgrade dask"
      ],
      "execution_count": null,
      "outputs": []
    },
    {
      "cell_type": "code",
      "metadata": {
        "colab": {
          "base_uri": "https://localhost:8080/",
          "height": 191
        },
        "id": "qZsLBpt9M64j",
        "outputId": "a038d655-38fd-4d10-8f8b-e102f6c260ee"
      },
      "source": [
        "\n",
        "# readinng csv file\n",
        "import pandas as pd \n",
        "data = pd.read_csv('hour.csv') \n",
        "\n",
        "data.head()"
      ],
      "execution_count": 74,
      "outputs": [
        {
          "output_type": "execute_result",
          "data": {
            "text/html": [
              "<div>\n",
              "<style scoped>\n",
              "    .dataframe tbody tr th:only-of-type {\n",
              "        vertical-align: middle;\n",
              "    }\n",
              "\n",
              "    .dataframe tbody tr th {\n",
              "        vertical-align: top;\n",
              "    }\n",
              "\n",
              "    .dataframe thead th {\n",
              "        text-align: right;\n",
              "    }\n",
              "</style>\n",
              "<table border=\"1\" class=\"dataframe\">\n",
              "  <thead>\n",
              "    <tr style=\"text-align: right;\">\n",
              "      <th></th>\n",
              "      <th>instant</th>\n",
              "      <th>dteday</th>\n",
              "      <th>season</th>\n",
              "      <th>yr</th>\n",
              "      <th>mnth</th>\n",
              "      <th>hr</th>\n",
              "      <th>holiday</th>\n",
              "      <th>weekday</th>\n",
              "      <th>workingday</th>\n",
              "      <th>weathersit</th>\n",
              "      <th>temp</th>\n",
              "      <th>atemp</th>\n",
              "      <th>hum</th>\n",
              "      <th>windspeed</th>\n",
              "      <th>casual</th>\n",
              "      <th>registered</th>\n",
              "      <th>cnt</th>\n",
              "    </tr>\n",
              "  </thead>\n",
              "  <tbody>\n",
              "    <tr>\n",
              "      <th>0</th>\n",
              "      <td>1</td>\n",
              "      <td>2011-01-01</td>\n",
              "      <td>1</td>\n",
              "      <td>0</td>\n",
              "      <td>1</td>\n",
              "      <td>0</td>\n",
              "      <td>0</td>\n",
              "      <td>6</td>\n",
              "      <td>0</td>\n",
              "      <td>1</td>\n",
              "      <td>0.24</td>\n",
              "      <td>0.2879</td>\n",
              "      <td>0.81</td>\n",
              "      <td>0.0</td>\n",
              "      <td>3</td>\n",
              "      <td>13</td>\n",
              "      <td>16</td>\n",
              "    </tr>\n",
              "    <tr>\n",
              "      <th>1</th>\n",
              "      <td>2</td>\n",
              "      <td>2011-01-01</td>\n",
              "      <td>1</td>\n",
              "      <td>0</td>\n",
              "      <td>1</td>\n",
              "      <td>1</td>\n",
              "      <td>0</td>\n",
              "      <td>6</td>\n",
              "      <td>0</td>\n",
              "      <td>1</td>\n",
              "      <td>0.22</td>\n",
              "      <td>0.2727</td>\n",
              "      <td>0.80</td>\n",
              "      <td>0.0</td>\n",
              "      <td>8</td>\n",
              "      <td>32</td>\n",
              "      <td>40</td>\n",
              "    </tr>\n",
              "    <tr>\n",
              "      <th>2</th>\n",
              "      <td>3</td>\n",
              "      <td>2011-01-01</td>\n",
              "      <td>1</td>\n",
              "      <td>0</td>\n",
              "      <td>1</td>\n",
              "      <td>2</td>\n",
              "      <td>0</td>\n",
              "      <td>6</td>\n",
              "      <td>0</td>\n",
              "      <td>1</td>\n",
              "      <td>0.22</td>\n",
              "      <td>0.2727</td>\n",
              "      <td>0.80</td>\n",
              "      <td>0.0</td>\n",
              "      <td>5</td>\n",
              "      <td>27</td>\n",
              "      <td>32</td>\n",
              "    </tr>\n",
              "    <tr>\n",
              "      <th>3</th>\n",
              "      <td>4</td>\n",
              "      <td>2011-01-01</td>\n",
              "      <td>1</td>\n",
              "      <td>0</td>\n",
              "      <td>1</td>\n",
              "      <td>3</td>\n",
              "      <td>0</td>\n",
              "      <td>6</td>\n",
              "      <td>0</td>\n",
              "      <td>1</td>\n",
              "      <td>0.24</td>\n",
              "      <td>0.2879</td>\n",
              "      <td>0.75</td>\n",
              "      <td>0.0</td>\n",
              "      <td>3</td>\n",
              "      <td>10</td>\n",
              "      <td>13</td>\n",
              "    </tr>\n",
              "    <tr>\n",
              "      <th>4</th>\n",
              "      <td>5</td>\n",
              "      <td>2011-01-01</td>\n",
              "      <td>1</td>\n",
              "      <td>0</td>\n",
              "      <td>1</td>\n",
              "      <td>4</td>\n",
              "      <td>0</td>\n",
              "      <td>6</td>\n",
              "      <td>0</td>\n",
              "      <td>1</td>\n",
              "      <td>0.24</td>\n",
              "      <td>0.2879</td>\n",
              "      <td>0.75</td>\n",
              "      <td>0.0</td>\n",
              "      <td>0</td>\n",
              "      <td>1</td>\n",
              "      <td>1</td>\n",
              "    </tr>\n",
              "  </tbody>\n",
              "</table>\n",
              "</div>"
            ],
            "text/plain": [
              "   instant      dteday  season  yr  ...  windspeed  casual  registered  cnt\n",
              "0        1  2011-01-01       1   0  ...        0.0       3          13   16\n",
              "1        2  2011-01-01       1   0  ...        0.0       8          32   40\n",
              "2        3  2011-01-01       1   0  ...        0.0       5          27   32\n",
              "3        4  2011-01-01       1   0  ...        0.0       3          10   13\n",
              "4        5  2011-01-01       1   0  ...        0.0       0           1    1\n",
              "\n",
              "[5 rows x 17 columns]"
            ]
          },
          "metadata": {
            "tags": []
          },
          "execution_count": 74
        }
      ]
    },
    {
      "cell_type": "code",
      "metadata": {
        "id": "4H8QKf4erd-I"
      },
      "source": [
        "data= data.drop(['instant','dteday'],axis=1)"
      ],
      "execution_count": 75,
      "outputs": []
    },
    {
      "cell_type": "code",
      "metadata": {
        "id": "DJSP_HnLNDMc"
      },
      "source": [
        "# Seperating our dataset into Independent And Dependent Features \n",
        "X=data.drop('cnt',axis=1) \n",
        "y=data['cnt']"
      ],
      "execution_count": 76,
      "outputs": []
    },
    {
      "cell_type": "code",
      "metadata": {
        "colab": {
          "base_uri": "https://localhost:8080/"
        },
        "id": "a7K5yDxhNE2r",
        "outputId": "0a1de6be-02b3-4c74-b80c-7521b16b90f4"
      },
      "source": [
        "# Check whether dataset is balanced or not\n",
        "y.value_counts(normalize=True)"
      ],
      "execution_count": 77,
      "outputs": [
        {
          "output_type": "execute_result",
          "data": {
            "text/plain": [
              "5      0.014961\n",
              "6      0.013580\n",
              "4      0.013292\n",
              "3      0.012889\n",
              "2      0.011968\n",
              "         ...   \n",
              "725    0.000058\n",
              "709    0.000058\n",
              "661    0.000058\n",
              "629    0.000058\n",
              "887    0.000058\n",
              "Name: cnt, Length: 869, dtype: float64"
            ]
          },
          "metadata": {
            "tags": []
          },
          "execution_count": 77
        }
      ]
    },
    {
      "cell_type": "code",
      "metadata": {
        "id": "uIjyt8GhNQJZ"
      },
      "source": [
        "import evalml\n",
        "# split dataset into training and testing part using evalml, here we have to mention problem_type, what kind of problem actually we are trying to solve. \n",
        "X_train,X_test,y_train,y_test = evalml.preprocessing.split_data(X,y,problem_type='regression',test_size=.3)"
      ],
      "execution_count": 96,
      "outputs": []
    },
    {
      "cell_type": "code",
      "metadata": {
        "colab": {
          "base_uri": "https://localhost:8080/"
        },
        "id": "Fo-ee0gHNQbF",
        "outputId": "8e097566-0df4-4507-b70c-e636b0e9ec9a"
      },
      "source": [
        "# printing all problem statement available in evalml library.\n",
        "evalml.problem_types.ProblemTypes.all_problem_types"
      ],
      "execution_count": 97,
      "outputs": [
        {
          "output_type": "execute_result",
          "data": {
            "text/plain": [
              "[<ProblemTypes.BINARY: 'binary'>,\n",
              " <ProblemTypes.MULTICLASS: 'multiclass'>,\n",
              " <ProblemTypes.REGRESSION: 'regression'>,\n",
              " <ProblemTypes.TIME_SERIES_REGRESSION: 'time series regression'>,\n",
              " <ProblemTypes.TIME_SERIES_BINARY: 'time series binary'>,\n",
              " <ProblemTypes.TIME_SERIES_MULTICLASS: 'time series multiclass'>]"
            ]
          },
          "metadata": {
            "tags": []
          },
          "execution_count": 97
        }
      ]
    },
    {
      "cell_type": "code",
      "metadata": {
        "colab": {
          "base_uri": "https://localhost:8080/",
          "height": 911,
          "referenced_widgets": [
            "e76dbf783346400aaf00452d19fc11e3"
          ]
        },
        "id": "2pts_D17NR08",
        "outputId": "07d5fa94-9316-44a9-92c8-062bd2202981"
      },
      "source": [
        "# Search best suitable algorithm for our problem statement\n",
        "from evalml.automl import AutoMLSearch\n",
        "%timeit \n",
        "automl = AutoMLSearch(X_train=X_train,y_train=y_train,problem_type='regression',max_batches=1,optimize_thresholds=True)\n",
        "automl.search()"
      ],
      "execution_count": 110,
      "outputs": [
        {
          "output_type": "stream",
          "text": [
            "Generating pipelines to search over...\n",
            "\n",
            "*****************************\n",
            "* Beginning pipeline search *\n",
            "*****************************\n",
            "\n",
            "Optimizing for R2. \n",
            "Greater score is better.\n",
            "\n",
            "Using SequentialEngine to train and score pipelines.\n",
            "Searching up to 1 batches for a total of 9 pipelines. \n",
            "Allowed model families: random_forest, xgboost, linear_model, catboost, decision_tree, lightgbm, extra_trees\n",
            "\n"
          ],
          "name": "stdout"
        },
        {
          "output_type": "display_data",
          "data": {
            "application/vnd.jupyter.widget-view+json": {
              "model_id": "e76dbf783346400aaf00452d19fc11e3",
              "version_minor": 0,
              "version_major": 2
            },
            "text/plain": [
              "FigureWidget({\n",
              "    'data': [{'mode': 'lines+markers',\n",
              "              'name': 'Best Score',\n",
              "              'type'…"
            ]
          },
          "metadata": {
            "tags": []
          }
        },
        {
          "output_type": "stream",
          "text": [
            "Evaluating Baseline Pipeline: Mean Baseline Regression Pipeline\n",
            "Mean Baseline Regression Pipeline:\n",
            "\tStarting cross validation\n",
            "\tFinished cross validation - mean R2: -0.000\n",
            "\tHigh coefficient of variation (cv >= 0.2) within cross validation scores.\n",
            "\tMean Baseline Regression Pipeline may not perform as estimated on unseen data.\n",
            "\n",
            "*****************************\n",
            "* Evaluating Batch Number 1 *\n",
            "*****************************\n",
            "\n",
            "Decision Tree Regressor w/ Imputer:\n",
            "\tStarting cross validation\n",
            "\tFinished cross validation - mean R2: 0.991\n",
            "[04:46:47] WARNING: /workspace/src/objective/regression_obj.cu:152: reg:linear is now deprecated in favor of reg:squarederror.\n",
            "[04:46:48] WARNING: /workspace/src/objective/regression_obj.cu:152: reg:linear is now deprecated in favor of reg:squarederror.\n",
            "[04:46:49] WARNING: /workspace/src/objective/regression_obj.cu:152: reg:linear is now deprecated in favor of reg:squarederror.\n",
            "XGBoost Regressor w/ Imputer:\n",
            "\tStarting cross validation\n",
            "\tFinished cross validation - mean R2: 1.000\n",
            "Random Forest Regressor w/ Imputer:\n",
            "\tStarting cross validation\n",
            "\tFinished cross validation - mean R2: 0.997\n",
            "Linear Regressor w/ Imputer + Standard Scaler:\n",
            "\tStarting cross validation\n",
            "\tFinished cross validation - mean R2: 1.000\n",
            "Extra Trees Regressor w/ Imputer:\n",
            "\tStarting cross validation\n",
            "\tFinished cross validation - mean R2: 0.995\n",
            "LightGBM Regressor w/ Imputer:\n",
            "\tStarting cross validation\n",
            "\tFinished cross validation - mean R2: 0.983\n",
            "CatBoost Regressor w/ Imputer:\n",
            "\tStarting cross validation\n",
            "\tFinished cross validation - mean R2: 0.414\n",
            "Elastic Net Regressor w/ Imputer + Standard Scaler:\n",
            "\tStarting cross validation\n",
            "\tFinished cross validation - mean R2: 0.968\n",
            "\n",
            "Search finished after 00:13            \n",
            "Best pipeline: Linear Regressor w/ Imputer + Standard Scaler\n",
            "Best pipeline R2: 1.000000\n"
          ],
          "name": "stdout"
        }
      ]
    },
    {
      "cell_type": "code",
      "metadata": {
        "colab": {
          "base_uri": "https://localhost:8080/",
          "height": 582
        },
        "id": "mioQK2UBNTk8",
        "outputId": "c42b4b5d-3ef4-4fc1-970a-be37dbfad5a0"
      },
      "source": [
        "# return a table showing different models based on their ranking\n",
        "automl.rankings"
      ],
      "execution_count": 104,
      "outputs": [
        {
          "output_type": "execute_result",
          "data": {
            "text/html": [
              "<div>\n",
              "<style scoped>\n",
              "    .dataframe tbody tr th:only-of-type {\n",
              "        vertical-align: middle;\n",
              "    }\n",
              "\n",
              "    .dataframe tbody tr th {\n",
              "        vertical-align: top;\n",
              "    }\n",
              "\n",
              "    .dataframe thead th {\n",
              "        text-align: right;\n",
              "    }\n",
              "</style>\n",
              "<table border=\"1\" class=\"dataframe\">\n",
              "  <thead>\n",
              "    <tr style=\"text-align: right;\">\n",
              "      <th></th>\n",
              "      <th>id</th>\n",
              "      <th>pipeline_name</th>\n",
              "      <th>mean_cv_score</th>\n",
              "      <th>standard_deviation_cv_score</th>\n",
              "      <th>validation_score</th>\n",
              "      <th>percent_better_than_baseline</th>\n",
              "      <th>high_variance_cv</th>\n",
              "      <th>parameters</th>\n",
              "    </tr>\n",
              "  </thead>\n",
              "  <tbody>\n",
              "    <tr>\n",
              "      <th>0</th>\n",
              "      <td>4</td>\n",
              "      <td>Linear Regressor w/ Imputer + Standard Scaler</td>\n",
              "      <td>1.000000</td>\n",
              "      <td>0.000000</td>\n",
              "      <td>1.000000</td>\n",
              "      <td>371216.087457</td>\n",
              "      <td>False</td>\n",
              "      <td>{'Imputer': {'categorical_impute_strategy': 'm...</td>\n",
              "    </tr>\n",
              "    <tr>\n",
              "      <th>1</th>\n",
              "      <td>2</td>\n",
              "      <td>XGBoost Regressor w/ Imputer</td>\n",
              "      <td>0.999692</td>\n",
              "      <td>0.000038</td>\n",
              "      <td>0.999721</td>\n",
              "      <td>371101.640401</td>\n",
              "      <td>False</td>\n",
              "      <td>{'Imputer': {'categorical_impute_strategy': 'm...</td>\n",
              "    </tr>\n",
              "    <tr>\n",
              "      <th>2</th>\n",
              "      <td>3</td>\n",
              "      <td>Random Forest Regressor w/ Imputer</td>\n",
              "      <td>0.997176</td>\n",
              "      <td>0.000518</td>\n",
              "      <td>0.996585</td>\n",
              "      <td>370167.886937</td>\n",
              "      <td>False</td>\n",
              "      <td>{'Imputer': {'categorical_impute_strategy': 'm...</td>\n",
              "    </tr>\n",
              "    <tr>\n",
              "      <th>3</th>\n",
              "      <td>5</td>\n",
              "      <td>Extra Trees Regressor w/ Imputer</td>\n",
              "      <td>0.995023</td>\n",
              "      <td>0.000696</td>\n",
              "      <td>0.995267</td>\n",
              "      <td>369369.148268</td>\n",
              "      <td>False</td>\n",
              "      <td>{'Imputer': {'categorical_impute_strategy': 'm...</td>\n",
              "    </tr>\n",
              "    <tr>\n",
              "      <th>4</th>\n",
              "      <td>1</td>\n",
              "      <td>Decision Tree Regressor w/ Imputer</td>\n",
              "      <td>0.991171</td>\n",
              "      <td>0.000261</td>\n",
              "      <td>0.991176</td>\n",
              "      <td>367939.572394</td>\n",
              "      <td>False</td>\n",
              "      <td>{'Imputer': {'categorical_impute_strategy': 'm...</td>\n",
              "    </tr>\n",
              "    <tr>\n",
              "      <th>5</th>\n",
              "      <td>6</td>\n",
              "      <td>LightGBM Regressor w/ Imputer</td>\n",
              "      <td>0.983065</td>\n",
              "      <td>0.000211</td>\n",
              "      <td>0.982983</td>\n",
              "      <td>364931.358674</td>\n",
              "      <td>False</td>\n",
              "      <td>{'Imputer': {'categorical_impute_strategy': 'm...</td>\n",
              "    </tr>\n",
              "    <tr>\n",
              "      <th>6</th>\n",
              "      <td>8</td>\n",
              "      <td>Elastic Net Regressor w/ Imputer + Standard Sc...</td>\n",
              "      <td>0.967918</td>\n",
              "      <td>0.000444</td>\n",
              "      <td>0.967568</td>\n",
              "      <td>359309.921902</td>\n",
              "      <td>False</td>\n",
              "      <td>{'Imputer': {'categorical_impute_strategy': 'm...</td>\n",
              "    </tr>\n",
              "    <tr>\n",
              "      <th>7</th>\n",
              "      <td>7</td>\n",
              "      <td>CatBoost Regressor w/ Imputer</td>\n",
              "      <td>0.414396</td>\n",
              "      <td>0.004711</td>\n",
              "      <td>0.410043</td>\n",
              "      <td>153889.169329</td>\n",
              "      <td>False</td>\n",
              "      <td>{'Imputer': {'categorical_impute_strategy': 'm...</td>\n",
              "    </tr>\n",
              "    <tr>\n",
              "      <th>8</th>\n",
              "      <td>0</td>\n",
              "      <td>Mean Baseline Regression Pipeline</td>\n",
              "      <td>-0.000269</td>\n",
              "      <td>0.000229</td>\n",
              "      <td>-0.000502</td>\n",
              "      <td>0.000000</td>\n",
              "      <td>True</td>\n",
              "      <td>{'Baseline Regressor': {'strategy': 'mean'}}</td>\n",
              "    </tr>\n",
              "  </tbody>\n",
              "</table>\n",
              "</div>"
            ],
            "text/plain": [
              "   id  ...                                         parameters\n",
              "0   4  ...  {'Imputer': {'categorical_impute_strategy': 'm...\n",
              "1   2  ...  {'Imputer': {'categorical_impute_strategy': 'm...\n",
              "2   3  ...  {'Imputer': {'categorical_impute_strategy': 'm...\n",
              "3   5  ...  {'Imputer': {'categorical_impute_strategy': 'm...\n",
              "4   1  ...  {'Imputer': {'categorical_impute_strategy': 'm...\n",
              "5   6  ...  {'Imputer': {'categorical_impute_strategy': 'm...\n",
              "6   8  ...  {'Imputer': {'categorical_impute_strategy': 'm...\n",
              "7   7  ...  {'Imputer': {'categorical_impute_strategy': 'm...\n",
              "8   0  ...       {'Baseline Regressor': {'strategy': 'mean'}}\n",
              "\n",
              "[9 rows x 8 columns]"
            ]
          },
          "metadata": {
            "tags": []
          },
          "execution_count": 104
        }
      ]
    },
    {
      "cell_type": "code",
      "metadata": {
        "id": "dmcXosbjNVp8"
      },
      "source": [
        "# get best pipeline\n",
        "best_pipeline = automl.best_pipeline\n",
        "\n",
        "# Output : \n",
        "# GeneratedPipeline(parameters={'Random Forest Classifier':{'n_estimators': 100, 'max_depth': 6, 'n_jobs': -1},})"
      ],
      "execution_count": 100,
      "outputs": []
    },
    {
      "cell_type": "code",
      "metadata": {
        "colab": {
          "base_uri": "https://localhost:8080/"
        },
        "id": "MigR8uQ-QWMH",
        "outputId": "e937235a-37cc-4206-9058-aa9fe6aeac54"
      },
      "source": [
        "best_pipeline"
      ],
      "execution_count": 101,
      "outputs": [
        {
          "output_type": "execute_result",
          "data": {
            "text/plain": [
              "GeneratedPipeline(parameters={'Imputer':{'categorical_impute_strategy': 'most_frequent', 'numeric_impute_strategy': 'mean', 'categorical_fill_value': None, 'numeric_fill_value': None}, 'Linear Regressor':{'fit_intercept': True, 'normalize': False, 'n_jobs': -1},})"
            ]
          },
          "metadata": {
            "tags": []
          },
          "execution_count": 101
        }
      ]
    },
    {
      "cell_type": "code",
      "metadata": {
        "colab": {
          "base_uri": "https://localhost:8080/"
        },
        "id": "WU5thZrRNXSf",
        "outputId": "b5781059-b1c7-4788-8472-3d39cd07a5bb"
      },
      "source": [
        "# describe best pipeline in more detail.\n",
        "automl.describe_pipeline(automl.rankings.iloc[0][\"id\"])"
      ],
      "execution_count": 102,
      "outputs": [
        {
          "output_type": "stream",
          "text": [
            "\n",
            "*************************************************\n",
            "* Linear Regressor w/ Imputer + Standard Scaler *\n",
            "*************************************************\n",
            "\n",
            "Problem Type: regression\n",
            "Model Family: Linear\n",
            "\n",
            "Pipeline Steps\n",
            "==============\n",
            "1. Imputer\n",
            "\t * categorical_impute_strategy : most_frequent\n",
            "\t * numeric_impute_strategy : mean\n",
            "\t * categorical_fill_value : None\n",
            "\t * numeric_fill_value : None\n",
            "2. Standard Scaler\n",
            "3. Linear Regressor\n",
            "\t * fit_intercept : True\n",
            "\t * normalize : False\n",
            "\t * n_jobs : -1\n",
            "\n",
            "Training\n",
            "========\n",
            "Training for regression problems.\n",
            "Total training time (including CV): 0.9 seconds\n",
            "\n",
            "Cross Validation\n",
            "----------------\n",
            "               R2  ExpVariance  MaxError  MedianAE   MSE   MAE  Root Mean Squared Error # Training # Validation\n",
            "0           1.000        1.000     0.000     0.000 0.000 0.000                    0.000      8,110        4,055\n",
            "1           1.000        1.000     0.000     0.000 0.000 0.000                    0.000      8,110        4,055\n",
            "2           1.000        1.000     0.000     0.000 0.000 0.000                    0.000      8,110        4,055\n",
            "mean        1.000        1.000     0.000     0.000 0.000 0.000                    0.000          -            -\n",
            "std         0.000        0.000     0.000     0.000 0.000 0.000                    0.000          -            -\n",
            "coef of var 0.000        0.000     0.368     0.157 0.347 0.169                    0.173          -            -\n"
          ],
          "name": "stdout"
        }
      ]
    },
    {
      "cell_type": "code",
      "metadata": {
        "colab": {
          "base_uri": "https://localhost:8080/"
        },
        "id": "toaXhieaNYkj",
        "outputId": "7c815535-00cd-4b22-af68-b38c50b54e41"
      },
      "source": [
        "# evalute test data\n",
        "scores = best_pipeline.score(X_test, y_test,  objectives=evalml.objectives.get_core_objectives('regression')) \n",
        "print(f'Accuracy regression: {scores[\"MAE\"]:.10f}')\n"
      ],
      "execution_count": 103,
      "outputs": [
        {
          "output_type": "stream",
          "text": [
            "Accuracy regression: 0.0000000000\n"
          ],
          "name": "stdout"
        }
      ]
    },
    {
      "cell_type": "code",
      "metadata": {
        "colab": {
          "base_uri": "https://localhost:8080/"
        },
        "id": "xfKuoM_4ujkj",
        "outputId": "da58be4c-2f2b-49cd-9cf0-258b195beff8"
      },
      "source": [
        "scores"
      ],
      "execution_count": 92,
      "outputs": [
        {
          "output_type": "execute_result",
          "data": {
            "text/plain": [
              "OrderedDict([('ExpVariance', 1.0),\n",
              "             ('MaxError', 6.821210263296962e-13),\n",
              "             ('MedianAE', 8.526512829121202e-14),\n",
              "             ('MSE', 1.92634713175218e-26),\n",
              "             ('MAE', 1.0324946370322974e-13),\n",
              "             ('R2', 1.0),\n",
              "             ('Root Mean Squared Error', 1.387929080231472e-13)])"
            ]
          },
          "metadata": {
            "tags": []
          },
          "execution_count": 92
        }
      ]
    },
    {
      "cell_type": "code",
      "metadata": {
        "colab": {
          "base_uri": "https://localhost:8080/"
        },
        "id": "mADK6ge9QhtF",
        "outputId": "78e63460-227e-4c8d-f540-428c04dcc1cc"
      },
      "source": [
        "pipeline = automl.best_pipeline\n",
        "#new = pipeline.predict(X_test)\n",
        "prediction = pipeline.predict(X_test)\n",
        "\n",
        "output = prediction.to_series()\n",
        "output"
      ],
      "execution_count": 108,
      "outputs": [
        {
          "output_type": "execute_result",
          "data": {
            "text/plain": [
              "0         7.0\n",
              "1         5.0\n",
              "2       743.0\n",
              "3       208.0\n",
              "4       333.0\n",
              "        ...  \n",
              "5209     35.0\n",
              "5210    571.0\n",
              "5211    499.0\n",
              "5212    302.0\n",
              "5213    229.0\n",
              "Name: cnt, Length: 5214, dtype: float64"
            ]
          },
          "metadata": {
            "tags": []
          },
          "execution_count": 108
        }
      ]
    },
    {
      "cell_type": "code",
      "metadata": {
        "colab": {
          "base_uri": "https://localhost:8080/"
        },
        "id": "IBpFTbKIA1dG",
        "outputId": "d546cc5f-7298-45ad-9a77-831f335867cc"
      },
      "source": [
        "type(prediction)"
      ],
      "execution_count": 105,
      "outputs": [
        {
          "output_type": "execute_result",
          "data": {
            "text/plain": [
              "woodwork.datacolumn.DataColumn"
            ]
          },
          "metadata": {
            "tags": []
          },
          "execution_count": 105
        }
      ]
    },
    {
      "cell_type": "code",
      "metadata": {
        "id": "rrrktAVOWZfs",
        "colab": {
          "base_uri": "https://localhost:8080/"
        },
        "outputId": "7e32fcc7-f5f3-47fe-ded3-a5ff03e61041"
      },
      "source": [
        "print(\"test length\",len(y_test.to_series()))\n",
        "print(\"prediction length\",len(output))"
      ],
      "execution_count": 89,
      "outputs": [
        {
          "output_type": "stream",
          "text": [
            "test length 3476\n",
            "prediction length 3476\n"
          ],
          "name": "stdout"
        }
      ]
    },
    {
      "cell_type": "code",
      "metadata": {
        "colab": {
          "base_uri": "https://localhost:8080/",
          "height": 345
        },
        "id": "PBGSEslfWfLJ",
        "outputId": "cb50e4fc-5bf1-4898-c239-f313d44e8bca"
      },
      "source": [
        "from sklearn.metrics import confusion_matrix\n",
        "cm = confusion_matrix(y_test.to_series(), output)\n",
        "#cm = ConfusionMatrix(y_true, y_predicted)\n",
        "cm\n"
      ],
      "execution_count": 90,
      "outputs": [
        {
          "output_type": "error",
          "ename": "ValueError",
          "evalue": "ignored",
          "traceback": [
            "\u001b[0;31m---------------------------------------------------------------------------\u001b[0m",
            "\u001b[0;31mValueError\u001b[0m                                Traceback (most recent call last)",
            "\u001b[0;32m<ipython-input-90-7ef330536611>\u001b[0m in \u001b[0;36m<module>\u001b[0;34m()\u001b[0m\n\u001b[1;32m      1\u001b[0m \u001b[0;32mfrom\u001b[0m \u001b[0msklearn\u001b[0m\u001b[0;34m.\u001b[0m\u001b[0mmetrics\u001b[0m \u001b[0;32mimport\u001b[0m \u001b[0mconfusion_matrix\u001b[0m\u001b[0;34m\u001b[0m\u001b[0;34m\u001b[0m\u001b[0m\n\u001b[0;32m----> 2\u001b[0;31m \u001b[0mcm\u001b[0m \u001b[0;34m=\u001b[0m \u001b[0mconfusion_matrix\u001b[0m\u001b[0;34m(\u001b[0m\u001b[0my_test\u001b[0m\u001b[0;34m.\u001b[0m\u001b[0mto_series\u001b[0m\u001b[0;34m(\u001b[0m\u001b[0;34m)\u001b[0m\u001b[0;34m,\u001b[0m \u001b[0moutput\u001b[0m\u001b[0;34m)\u001b[0m\u001b[0;34m\u001b[0m\u001b[0;34m\u001b[0m\u001b[0m\n\u001b[0m\u001b[1;32m      3\u001b[0m \u001b[0;31m#cm = ConfusionMatrix(y_true, y_predicted)\u001b[0m\u001b[0;34m\u001b[0m\u001b[0;34m\u001b[0m\u001b[0;34m\u001b[0m\u001b[0m\n\u001b[1;32m      4\u001b[0m \u001b[0mcm\u001b[0m\u001b[0;34m\u001b[0m\u001b[0;34m\u001b[0m\u001b[0m\n",
            "\u001b[0;32m/usr/local/lib/python3.7/dist-packages/sklearn/utils/validation.py\u001b[0m in \u001b[0;36minner_f\u001b[0;34m(*args, **kwargs)\u001b[0m\n\u001b[1;32m     61\u001b[0m             \u001b[0mextra_args\u001b[0m \u001b[0;34m=\u001b[0m \u001b[0mlen\u001b[0m\u001b[0;34m(\u001b[0m\u001b[0margs\u001b[0m\u001b[0;34m)\u001b[0m \u001b[0;34m-\u001b[0m \u001b[0mlen\u001b[0m\u001b[0;34m(\u001b[0m\u001b[0mall_args\u001b[0m\u001b[0;34m)\u001b[0m\u001b[0;34m\u001b[0m\u001b[0;34m\u001b[0m\u001b[0m\n\u001b[1;32m     62\u001b[0m             \u001b[0;32mif\u001b[0m \u001b[0mextra_args\u001b[0m \u001b[0;34m<=\u001b[0m \u001b[0;36m0\u001b[0m\u001b[0;34m:\u001b[0m\u001b[0;34m\u001b[0m\u001b[0;34m\u001b[0m\u001b[0m\n\u001b[0;32m---> 63\u001b[0;31m                 \u001b[0;32mreturn\u001b[0m \u001b[0mf\u001b[0m\u001b[0;34m(\u001b[0m\u001b[0;34m*\u001b[0m\u001b[0margs\u001b[0m\u001b[0;34m,\u001b[0m \u001b[0;34m**\u001b[0m\u001b[0mkwargs\u001b[0m\u001b[0;34m)\u001b[0m\u001b[0;34m\u001b[0m\u001b[0;34m\u001b[0m\u001b[0m\n\u001b[0m\u001b[1;32m     64\u001b[0m \u001b[0;34m\u001b[0m\u001b[0m\n\u001b[1;32m     65\u001b[0m             \u001b[0;31m# extra_args > 0\u001b[0m\u001b[0;34m\u001b[0m\u001b[0;34m\u001b[0m\u001b[0;34m\u001b[0m\u001b[0m\n",
            "\u001b[0;32m/usr/local/lib/python3.7/dist-packages/sklearn/metrics/_classification.py\u001b[0m in \u001b[0;36mconfusion_matrix\u001b[0;34m(y_true, y_pred, labels, sample_weight, normalize)\u001b[0m\n\u001b[1;32m    297\u001b[0m \u001b[0;34m\u001b[0m\u001b[0m\n\u001b[1;32m    298\u001b[0m     \"\"\"\n\u001b[0;32m--> 299\u001b[0;31m     \u001b[0my_type\u001b[0m\u001b[0;34m,\u001b[0m \u001b[0my_true\u001b[0m\u001b[0;34m,\u001b[0m \u001b[0my_pred\u001b[0m \u001b[0;34m=\u001b[0m \u001b[0m_check_targets\u001b[0m\u001b[0;34m(\u001b[0m\u001b[0my_true\u001b[0m\u001b[0;34m,\u001b[0m \u001b[0my_pred\u001b[0m\u001b[0;34m)\u001b[0m\u001b[0;34m\u001b[0m\u001b[0;34m\u001b[0m\u001b[0m\n\u001b[0m\u001b[1;32m    300\u001b[0m     \u001b[0;32mif\u001b[0m \u001b[0my_type\u001b[0m \u001b[0;32mnot\u001b[0m \u001b[0;32min\u001b[0m \u001b[0;34m(\u001b[0m\u001b[0;34m\"binary\"\u001b[0m\u001b[0;34m,\u001b[0m \u001b[0;34m\"multiclass\"\u001b[0m\u001b[0;34m)\u001b[0m\u001b[0;34m:\u001b[0m\u001b[0;34m\u001b[0m\u001b[0;34m\u001b[0m\u001b[0m\n\u001b[1;32m    301\u001b[0m         \u001b[0;32mraise\u001b[0m \u001b[0mValueError\u001b[0m\u001b[0;34m(\u001b[0m\u001b[0;34m\"%s is not supported\"\u001b[0m \u001b[0;34m%\u001b[0m \u001b[0my_type\u001b[0m\u001b[0;34m)\u001b[0m\u001b[0;34m\u001b[0m\u001b[0;34m\u001b[0m\u001b[0m\n",
            "\u001b[0;32m/usr/local/lib/python3.7/dist-packages/sklearn/metrics/_classification.py\u001b[0m in \u001b[0;36m_check_targets\u001b[0;34m(y_true, y_pred)\u001b[0m\n\u001b[1;32m     91\u001b[0m     \u001b[0;32mif\u001b[0m \u001b[0mlen\u001b[0m\u001b[0;34m(\u001b[0m\u001b[0my_type\u001b[0m\u001b[0;34m)\u001b[0m \u001b[0;34m>\u001b[0m \u001b[0;36m1\u001b[0m\u001b[0;34m:\u001b[0m\u001b[0;34m\u001b[0m\u001b[0;34m\u001b[0m\u001b[0m\n\u001b[1;32m     92\u001b[0m         raise ValueError(\"Classification metrics can't handle a mix of {0} \"\n\u001b[0;32m---> 93\u001b[0;31m                          \"and {1} targets\".format(type_true, type_pred))\n\u001b[0m\u001b[1;32m     94\u001b[0m \u001b[0;34m\u001b[0m\u001b[0m\n\u001b[1;32m     95\u001b[0m     \u001b[0;31m# We can't have more than one value on y_type => The set is no more needed\u001b[0m\u001b[0;34m\u001b[0m\u001b[0;34m\u001b[0m\u001b[0;34m\u001b[0m\u001b[0m\n",
            "\u001b[0;31mValueError\u001b[0m: Classification metrics can't handle a mix of unknown and continuous targets"
          ]
        }
      ]
    },
    {
      "cell_type": "code",
      "metadata": {
        "colab": {
          "base_uri": "https://localhost:8080/"
        },
        "id": "uV9JyrNEgxni",
        "outputId": "32ac1aa5-6d72-41c1-b8fb-27f3230dab2e"
      },
      "source": [
        "from sklearn.metrics import r2_score\n",
        "\n",
        "r2_score(y_test.to_series(), output)"
      ],
      "execution_count": 109,
      "outputs": [
        {
          "output_type": "execute_result",
          "data": {
            "text/plain": [
              "1.0"
            ]
          },
          "metadata": {
            "tags": []
          },
          "execution_count": 109
        }
      ]
    },
    {
      "cell_type": "code",
      "metadata": {
        "id": "FtlSkFKbNaRE"
      },
      "source": [
        "# save the model in model.pkl file.\n",
        "best_pipeline.save(\"model.pkl\")"
      ],
      "execution_count": null,
      "outputs": []
    }
  ]
}